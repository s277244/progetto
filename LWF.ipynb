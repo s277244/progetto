{
  "nbformat": 4,
  "nbformat_minor": 0,
  "metadata": {
    "kernelspec": {
      "display_name": "Python 3",
      "language": "python",
      "name": "python3"
    },
    "language_info": {
      "codemirror_mode": {
        "name": "ipython",
        "version": 3
      },
      "file_extension": ".py",
      "mimetype": "text/x-python",
      "name": "python",
      "nbconvert_exporter": "python",
      "pygments_lexer": "ipython3",
      "version": "3.8.2"
    },
    "colab": {
      "name": "LWF.ipynb",
      "provenance": [],
      "include_colab_link": true
    }
  },
  "cells": [
    {
      "cell_type": "markdown",
      "metadata": {
        "id": "view-in-github",
        "colab_type": "text"
      },
      "source": [
        "<a href=\"https://colab.research.google.com/github/s277244/progetto/blob/master/LWF.ipynb\" target=\"_parent\"><img src=\"https://colab.research.google.com/assets/colab-badge.svg\" alt=\"Open In Colab\"/></a>"
      ]
    },
    {
      "cell_type": "code",
      "metadata": {
        "id": "-OjfJvh4190D",
        "colab_type": "code",
        "colab": {}
      },
      "source": [
        "import os\n",
        "import torch\n",
        "import torch.nn as nn\n",
        "import torch.nn.functional as F\n",
        "import torch.optim as optim\n",
        "from torch.autograd import Variable\n",
        "from torch.utils.data import DataLoader\n",
        "import numpy as np\n",
        "from PIL import Image\n",
        "\n",
        "#from resnet_cifar import resnet32\n",
        "\n",
        "import math\n"
      ],
      "execution_count": 0,
      "outputs": []
    },
    {
      "cell_type": "code",
      "metadata": {
        "id": "L3NDxfQO190N",
        "colab_type": "code",
        "outputId": "d29f0737-5690-4c59-83d1-1b8871d7eb86",
        "colab": {
          "base_uri": "https://localhost:8080/",
          "height": 119
        }
      },
      "source": [
        "#se su colab\n",
        "if not os.path.isdir('./progetto'):\n",
        "    !git clone https://github.com/decoyoctopus14/progetto.git\n",
        "from progetto.resnet_cifar import resnet32\n",
        "from progetto.dataset import CIFAR100\n",
        "#altrimenti\n",
        "#from resnet_cifar import resnet32"
      ],
      "execution_count": 0,
      "outputs": [
        {
          "output_type": "stream",
          "text": [
            "Cloning into 'progetto'...\n",
            "remote: Enumerating objects: 29, done.\u001b[K\n",
            "remote: Counting objects:   3% (1/29)\u001b[K\rremote: Counting objects:   6% (2/29)\u001b[K\rremote: Counting objects:  10% (3/29)\u001b[K\rremote: Counting objects:  13% (4/29)\u001b[K\rremote: Counting objects:  17% (5/29)\u001b[K\rremote: Counting objects:  20% (6/29)\u001b[K\rremote: Counting objects:  24% (7/29)\u001b[K\rremote: Counting objects:  27% (8/29)\u001b[K\rremote: Counting objects:  31% (9/29)\u001b[K\rremote: Counting objects:  34% (10/29)\u001b[K\rremote: Counting objects:  37% (11/29)\u001b[K\rremote: Counting objects:  41% (12/29)\u001b[K\rremote: Counting objects:  44% (13/29)\u001b[K\rremote: Counting objects:  48% (14/29)\u001b[K\rremote: Counting objects:  51% (15/29)\u001b[K\rremote: Counting objects:  55% (16/29)\u001b[K\rremote: Counting objects:  58% (17/29)\u001b[K\rremote: Counting objects:  62% (18/29)\u001b[K\rremote: Counting objects:  65% (19/29)\u001b[K\rremote: Counting objects:  68% (20/29)\u001b[K\rremote: Counting objects:  72% (21/29)\u001b[K\rremote: Counting objects:  75% (22/29)\u001b[K\rremote: Counting objects:  79% (23/29)\u001b[K\rremote: Counting objects:  82% (24/29)\u001b[K\rremote: Counting objects:  86% (25/29)\u001b[K\rremote: Counting objects:  89% (26/29)\u001b[K\rremote: Counting objects:  93% (27/29)\u001b[K\rremote: Counting objects:  96% (28/29)\u001b[K\rremote: Counting objects: 100% (29/29)\u001b[K\rremote: Counting objects: 100% (29/29), done.\u001b[K\n",
            "remote: Compressing objects:   5% (1/20)\u001b[K\rremote: Compressing objects:  10% (2/20)\u001b[K\rremote: Compressing objects:  15% (3/20)\u001b[K\rremote: Compressing objects:  20% (4/20)\u001b[K\rremote: Compressing objects:  25% (5/20)\u001b[K\rremote: Compressing objects:  30% (6/20)\u001b[K\rremote: Compressing objects:  35% (7/20)\u001b[K\rremote: Compressing objects:  40% (8/20)\u001b[K\rremote: Compressing objects:  45% (9/20)\u001b[K\rremote: Compressing objects:  50% (10/20)\u001b[K\rremote: Compressing objects:  55% (11/20)\u001b[K\rremote: Compressing objects:  60% (12/20)\u001b[K\rremote: Compressing objects:  65% (13/20)\u001b[K\rremote: Compressing objects:  70% (14/20)\u001b[K\rremote: Compressing objects:  75% (15/20)\u001b[K\rremote: Compressing objects:  80% (16/20)\u001b[K\rremote: Compressing objects:  85% (17/20)\u001b[K\rremote: Compressing objects:  90% (18/20)\u001b[K\rremote: Compressing objects:  95% (19/20)\u001b[K\rremote: Compressing objects: 100% (20/20)\u001b[K\rremote: Compressing objects: 100% (20/20), done.\u001b[K\n",
            "remote: Total 29 (delta 11), reused 26 (delta 8), pack-reused 0\u001b[K\n",
            "Unpacking objects:   3% (1/29)   \rUnpacking objects:   6% (2/29)   \rUnpacking objects:  10% (3/29)   \rUnpacking objects:  13% (4/29)   \rUnpacking objects:  17% (5/29)   \rUnpacking objects:  20% (6/29)   \rUnpacking objects:  24% (7/29)   \rUnpacking objects:  27% (8/29)   \rUnpacking objects:  31% (9/29)   \rUnpacking objects:  34% (10/29)   \rUnpacking objects:  37% (11/29)   \rUnpacking objects:  41% (12/29)   \rUnpacking objects:  44% (13/29)   \rUnpacking objects:  48% (14/29)   \rUnpacking objects:  51% (15/29)   \rUnpacking objects:  55% (16/29)   \rUnpacking objects:  58% (17/29)   \rUnpacking objects:  62% (18/29)   \rUnpacking objects:  65% (19/29)   \rUnpacking objects:  68% (20/29)   \rUnpacking objects:  72% (21/29)   \rUnpacking objects:  75% (22/29)   \rUnpacking objects:  79% (23/29)   \rUnpacking objects:  82% (24/29)   \rUnpacking objects:  86% (25/29)   \rUnpacking objects:  89% (26/29)   \rUnpacking objects:  93% (27/29)   \rUnpacking objects:  96% (28/29)   \rUnpacking objects: 100% (29/29)   \rUnpacking objects: 100% (29/29), done.\n"
          ],
          "name": "stdout"
        }
      ]
    },
    {
      "cell_type": "code",
      "metadata": {
        "id": "wltQBZH1190T",
        "colab_type": "code",
        "colab": {}
      },
      "source": [
        "#hyperparameters\n",
        "LR = 0.1\n",
        "WEIGHT_DECAY = 1e-5\n",
        "BATCH_SIZE = 128\n",
        "NUM_EPOCHS = 5\n",
        "DEVICE = 'cuda'"
      ],
      "execution_count": 0,
      "outputs": []
    },
    {
      "cell_type": "code",
      "metadata": {
        "id": "nysfFA0s190g",
        "colab_type": "code",
        "colab": {}
      },
      "source": [
        "def kaiming_normal_init(m):\n",
        "    if isinstance(m, nn.Conv2d):\n",
        "        nn.init.kaiming_normal_(m.weight, nonlinearity='relu')\n",
        "    elif isinstance(m, nn.Linear):\n",
        "        nn.init.kaiming_normal_(m.weight, nonlinearity='sigmoid')\n",
        "\n"
      ],
      "execution_count": 0,
      "outputs": []
    },
    {
      "cell_type": "code",
      "metadata": {
        "id": "e6jCo51G190m",
        "colab_type": "code",
        "colab": {}
      },
      "source": [
        "class LWF(nn.Module):\n",
        "    def __init__(self, num_classes):\n",
        "        super(LWF,self).__init__()\n",
        "        self.model = resnet32()\n",
        "        self.model.apply(kaiming_normal_init)\n",
        "        self.model.fc = nn.Linear(64, num_classes) # Modify output layers\n",
        "\n",
        "# Save FC layer in attributes\n",
        "        self.fc = self.feature_extractor.fc\n",
        "        # Save other layers in attributes\n",
        "        self.feature_extractor = nn.Sequential(*list(self.model.children())[:-1])\n",
        "        self.feature_extractor = nn.DataParallel(self.feature_extractor) \n",
        "\n",
        "\n",
        "        self.loss = nn.CrossEntropyLoss()\n",
        "        self.dist_loss = nn.BCEWithLogitsLoss()\n",
        "\n",
        "        self.optimizer = optim.SGD(self.parameters(), lr=LR, weight_decay=WEIGHT_DECAY)\n",
        "\n",
        "        # n_classes is incremented before processing new data in an iteration\n",
        "        # n_known is set to n_classes after all data for an iteration has been processed\n",
        "        self.n_classes = 0\n",
        "        self.n_known = 0\n",
        "    def forward(self, x):\n",
        "        x = self.feature_extractor(x)\n",
        "        x = x.view(x.size(0), -1)\n",
        "        x = self.fc(x)\n",
        "        return x\n",
        "    def increment_classes(self, new_classes):\n",
        "        \"\"\"Add n classes in the final fc layer\"\"\"\n",
        "        n = len(new_classes)\n",
        "        print('new classes: ', n)\n",
        "        in_features = self.fc.in_features\n",
        "        out_features = self.fc.out_features\n",
        "        weight = self.fc.weight.data\n",
        "\n",
        "        if self.n_known == 0:\n",
        "            new_out_features = n\n",
        "        else:\n",
        "            new_out_features = out_features + n\n",
        "        print('new out features: ', new_out_features)\n",
        "        self.model.fc = nn.Linear(in_features, new_out_features, bias=False)\n",
        "        self.fc = self.model.fc\n",
        "\n",
        "        kaiming_normal_init(self.fc.weight)\n",
        "        self.fc.weight.data[:out_features] = weight\n",
        "        self.n_classes += n\n"
      ],
      "execution_count": 0,
      "outputs": []
    },
    {
      "cell_type": "code",
      "metadata": {
        "id": "iAFYiCSc190u",
        "colab_type": "code",
        "colab": {}
      },
      "source": [
        ""
      ],
      "execution_count": 0,
      "outputs": []
    }
  ]
}